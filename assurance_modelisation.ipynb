{
 "cells": [
  {
   "cell_type": "markdown",
   "metadata": {},
   "source": [
    "IMPORT DES LIBRAIRIES ET DU DATA SET "
   ]
  },
  {
   "cell_type": "code",
   "execution_count": 1,
   "metadata": {},
   "outputs": [
    {
     "name": "stdout",
     "output_type": "stream",
     "text": [
      "      age     sex     bmi  children smoker     region      charges\n",
      "0      19  female  27.900         0    yes  southwest  16884.92400\n",
      "1      18    male  33.770         1     no  southeast   1725.55230\n",
      "2      28    male  33.000         3     no  southeast   4449.46200\n",
      "3      33    male  22.705         0     no  northwest  21984.47061\n",
      "4      32    male  28.880         0     no  northwest   3866.85520\n",
      "...   ...     ...     ...       ...    ...        ...          ...\n",
      "1333   50    male  30.970         3     no  northwest  10600.54830\n",
      "1334   18  female  31.920         0     no  northeast   2205.98080\n",
      "1335   18  female  36.850         0     no  southeast   1629.83350\n",
      "1336   21  female  25.800         0     no  southwest   2007.94500\n",
      "1337   61  female  29.070         0    yes  northwest  29141.36030\n",
      "\n",
      "[1338 rows x 7 columns]\n"
     ]
    }
   ],
   "source": [
    "# import des librairies dont nous aurons besoin\n",
    "import pandas as pd\n",
    "import pprint\n",
    "import numpy as np\n",
    "import re\n",
    "import missingno as msno \n",
    "import seaborn as sns\n",
    "import matplotlib.pyplot as plt\n",
    "import seaborn as sms\n",
    "from sklearn.linear_model import ElasticNet, Lasso, LinearRegression, Ridge\n",
    "from sklearn.datasets import make_regression\n",
    "from sklearn.preprocessing import PolynomialFeatures, StandardScaler, OneHotEncoder, RobustScaler\n",
    "from sklearn.linear_model import SGDClassifier\n",
    "from sklearn.pipeline import make_pipeline, Pipeline\n",
    "from sklearn.impute import SimpleImputer\n",
    "from sklearn.compose import make_column_transformer, make_column_selector, ColumnTransformer\n",
    "from sklearn.model_selection import train_test_split, GridSearchCV, RandomizedSearchCV, cross_val_score, cross_validate\n",
    "\n",
    "\n",
    "# chargement et affichage des données\n",
    "data = pd.read_csv('dataset.csv')\n",
    "print(data)"
   ]
  },
  {
   "cell_type": "code",
   "execution_count": 2,
   "metadata": {},
   "outputs": [],
   "source": [
    "X= data.drop(columns=['charges'],axis=1)\n",
    "y= data[['charges']]"
   ]
  },
  {
   "cell_type": "code",
   "execution_count": 3,
   "metadata": {},
   "outputs": [],
   "source": [
    "X_train, X_test, y_train, y_test = train_test_split(X, y, shuffle=True, test_size=0.15, random_state=42, stratify= data['smoker'])"
   ]
  },
  {
   "cell_type": "markdown",
   "metadata": {},
   "source": [
    "Ce code construit un prétraitement qui normalise et encode les données. La fonction ColumnTransformer applique un traitement différent sur chaque colonne. La fonction RobustScaler normalise les colonnes age, bmi et children et la fonction OneHotEncoder encode en étiquettes les colonnes région, fumeur et sexe. Ensuite, le Pipeline rassemble toutes les étapes de prétraitement et applique les transformations à l'ensemble de données X_train et y_train"
   ]
  },
  {
   "cell_type": "code",
   "execution_count": 4,
   "metadata": {},
   "outputs": [
    {
     "data": {
      "text/plain": [
       "array([[-0.64      ,  1.04964115,  0.5       , ...,  0.        ,\n",
       "         1.        ,  0.        ],\n",
       "       [ 0.12      ,  1.1812201 ,  0.5       , ...,  1.        ,\n",
       "         1.        ,  0.        ],\n",
       "       [-0.44      , -0.73863636,  0.        , ...,  0.        ,\n",
       "         1.        ,  0.        ],\n",
       "       ...,\n",
       "       [-0.28      ,  0.81818182,  0.        , ...,  0.        ,\n",
       "         0.        ,  1.        ],\n",
       "       [ 0.24      , -0.22667464,  0.5       , ...,  0.        ,\n",
       "         1.        ,  0.        ],\n",
       "       [-0.76      ,  0.17045455, -0.5       , ...,  0.        ,\n",
       "         1.        ,  0.        ]])"
      ]
     },
     "execution_count": 4,
     "metadata": {},
     "output_type": "execute_result"
    }
   ],
   "source": [
    "cols_to_norm = ['age', 'bmi','children']\n",
    "col_cat = ['region','smoker','sex']\n",
    "scale_one_hot = ColumnTransformer(\n",
    "    [('scaler',  RobustScaler(), cols_to_norm),('one_hot_encoder', OneHotEncoder(), col_cat)]\n",
    "    \n",
    ")\n",
    "\n",
    "preprocessor = Pipeline([\n",
    "    ('normalizer', scale_one_hot)\n",
    "    # autres étapes de votre pipeline ici\n",
    "])\n",
    "# Transformation des données\n",
    "\n",
    "preprocessor.fit_transform(X_train, y_train)\n"
   ]
  },
  {
   "cell_type": "markdown",
   "metadata": {},
   "source": [
    "### Modele de machine learning "
   ]
  },
  {
   "cell_type": "markdown",
   "metadata": {},
   "source": [
    "### Regression Lineaire"
   ]
  },
  {
   "cell_type": "code",
   "execution_count": 5,
   "metadata": {},
   "outputs": [],
   "source": [
    "my_pipe_lr = make_pipeline(preprocessor, PolynomialFeatures(degree=2), LinearRegression())\n",
    "my_pipe_lr.fit(X_train, y_train)\n",
    "pipe_lr = cross_validate(my_pipe_lr, X_train, y_train, cv=5, scoring= ['r2', 'neg_root_mean_squared_error'])\n"
   ]
  },
  {
   "cell_type": "code",
   "execution_count": 6,
   "metadata": {},
   "outputs": [
    {
     "data": {
      "text/plain": [
       "0.8311306969313235"
      ]
     },
     "execution_count": 6,
     "metadata": {},
     "output_type": "execute_result"
    }
   ],
   "source": [
    "score_lr = pipe_lr['test_r2'].mean()\n",
    "rmse_lr = np.abs(pipe_lr['test_neg_root_mean_squared_error'].mean())\n",
    "score_lr\n"
   ]
  },
  {
   "cell_type": "code",
   "execution_count": 7,
   "metadata": {},
   "outputs": [
    {
     "data": {
      "text/plain": [
       "4932.029695943878"
      ]
     },
     "execution_count": 7,
     "metadata": {},
     "output_type": "execute_result"
    }
   ],
   "source": [
    "rmse_lr"
   ]
  },
  {
   "cell_type": "markdown",
   "metadata": {},
   "source": [
    "### LASSO"
   ]
  },
  {
   "cell_type": "code",
   "execution_count": 8,
   "metadata": {},
   "outputs": [
    {
     "name": "stderr",
     "output_type": "stream",
     "text": [
      "/home/yanis/miniconda3/envs/data_analyse_env/lib/python3.10/site-packages/sklearn/linear_model/_coordinate_descent.py:634: ConvergenceWarning: Objective did not converge. You might want to increase the number of iterations, check the scale of the features or consider increasing regularisation. Duality gap: 9.331e+08, tolerance: 1.666e+07\n",
      "  model = cd_fast.enet_coordinate_descent(\n",
      "/home/yanis/miniconda3/envs/data_analyse_env/lib/python3.10/site-packages/sklearn/linear_model/_coordinate_descent.py:634: ConvergenceWarning: Objective did not converge. You might want to increase the number of iterations, check the scale of the features or consider increasing regularisation. Duality gap: 8.091e+08, tolerance: 1.329e+07\n",
      "  model = cd_fast.enet_coordinate_descent(\n",
      "/home/yanis/miniconda3/envs/data_analyse_env/lib/python3.10/site-packages/sklearn/linear_model/_coordinate_descent.py:634: ConvergenceWarning: Objective did not converge. You might want to increase the number of iterations, check the scale of the features or consider increasing regularisation. Duality gap: 7.431e+08, tolerance: 1.334e+07\n",
      "  model = cd_fast.enet_coordinate_descent(\n",
      "/home/yanis/miniconda3/envs/data_analyse_env/lib/python3.10/site-packages/sklearn/linear_model/_coordinate_descent.py:634: ConvergenceWarning: Objective did not converge. You might want to increase the number of iterations, check the scale of the features or consider increasing regularisation. Duality gap: 6.497e+08, tolerance: 1.358e+07\n",
      "  model = cd_fast.enet_coordinate_descent(\n",
      "/home/yanis/miniconda3/envs/data_analyse_env/lib/python3.10/site-packages/sklearn/linear_model/_coordinate_descent.py:634: ConvergenceWarning: Objective did not converge. You might want to increase the number of iterations, check the scale of the features or consider increasing regularisation. Duality gap: 7.837e+08, tolerance: 1.338e+07\n",
      "  model = cd_fast.enet_coordinate_descent(\n",
      "/home/yanis/miniconda3/envs/data_analyse_env/lib/python3.10/site-packages/sklearn/linear_model/_coordinate_descent.py:634: ConvergenceWarning: Objective did not converge. You might want to increase the number of iterations, check the scale of the features or consider increasing regularisation. Duality gap: 6.361e+08, tolerance: 1.304e+07\n",
      "  model = cd_fast.enet_coordinate_descent(\n"
     ]
    }
   ],
   "source": [
    "my_pipe_Lasso = make_pipeline(preprocessor, PolynomialFeatures(degree=2), Lasso())\n",
    "my_pipe_Lasso.fit(X_train, y_train)\n",
    "cv_lasso = cross_validate(my_pipe_Lasso, X_train, y_train, cv=5, scoring= ['r2', 'neg_root_mean_squared_error'])"
   ]
  },
  {
   "cell_type": "code",
   "execution_count": 9,
   "metadata": {},
   "outputs": [
    {
     "data": {
      "text/plain": [
       "0.8317130854915332"
      ]
     },
     "execution_count": 9,
     "metadata": {},
     "output_type": "execute_result"
    }
   ],
   "source": [
    "score_lasso = cv_lasso['test_r2'].mean()\n",
    "rmse_lasso = np.abs(cv_lasso['test_neg_root_mean_squared_error'].mean())\n",
    "score_lasso"
   ]
  },
  {
   "cell_type": "code",
   "execution_count": 10,
   "metadata": {},
   "outputs": [
    {
     "data": {
      "text/plain": [
       "4923.75079859429"
      ]
     },
     "execution_count": 10,
     "metadata": {},
     "output_type": "execute_result"
    }
   ],
   "source": [
    "rmse_lasso"
   ]
  },
  {
   "cell_type": "code",
   "execution_count": 11,
   "metadata": {},
   "outputs": [
    {
     "data": {
      "text/plain": [
       "{'memory': None,\n",
       " 'steps': [('pipeline', Pipeline(steps=[('normalizer',\n",
       "                    ColumnTransformer(transformers=[('scaler', RobustScaler(),\n",
       "                                                     ['age', 'bmi', 'children']),\n",
       "                                                    ('one_hot_encoder',\n",
       "                                                     OneHotEncoder(),\n",
       "                                                     ['region', 'smoker',\n",
       "                                                      'sex'])]))])),\n",
       "  ('polynomialfeatures', PolynomialFeatures()),\n",
       "  ('lasso', Lasso())],\n",
       " 'verbose': False,\n",
       " 'pipeline': Pipeline(steps=[('normalizer',\n",
       "                  ColumnTransformer(transformers=[('scaler', RobustScaler(),\n",
       "                                                   ['age', 'bmi', 'children']),\n",
       "                                                  ('one_hot_encoder',\n",
       "                                                   OneHotEncoder(),\n",
       "                                                   ['region', 'smoker',\n",
       "                                                    'sex'])]))]),\n",
       " 'polynomialfeatures': PolynomialFeatures(),\n",
       " 'lasso': Lasso(),\n",
       " 'pipeline__memory': None,\n",
       " 'pipeline__steps': [('normalizer',\n",
       "   ColumnTransformer(transformers=[('scaler', RobustScaler(),\n",
       "                                    ['age', 'bmi', 'children']),\n",
       "                                   ('one_hot_encoder', OneHotEncoder(),\n",
       "                                    ['region', 'smoker', 'sex'])]))],\n",
       " 'pipeline__verbose': False,\n",
       " 'pipeline__normalizer': ColumnTransformer(transformers=[('scaler', RobustScaler(),\n",
       "                                  ['age', 'bmi', 'children']),\n",
       "                                 ('one_hot_encoder', OneHotEncoder(),\n",
       "                                  ['region', 'smoker', 'sex'])]),\n",
       " 'pipeline__normalizer__n_jobs': None,\n",
       " 'pipeline__normalizer__remainder': 'drop',\n",
       " 'pipeline__normalizer__sparse_threshold': 0.3,\n",
       " 'pipeline__normalizer__transformer_weights': None,\n",
       " 'pipeline__normalizer__transformers': [('scaler',\n",
       "   RobustScaler(),\n",
       "   ['age', 'bmi', 'children']),\n",
       "  ('one_hot_encoder', OneHotEncoder(), ['region', 'smoker', 'sex'])],\n",
       " 'pipeline__normalizer__verbose': False,\n",
       " 'pipeline__normalizer__verbose_feature_names_out': True,\n",
       " 'pipeline__normalizer__scaler': RobustScaler(),\n",
       " 'pipeline__normalizer__one_hot_encoder': OneHotEncoder(),\n",
       " 'pipeline__normalizer__scaler__copy': True,\n",
       " 'pipeline__normalizer__scaler__quantile_range': (25.0, 75.0),\n",
       " 'pipeline__normalizer__scaler__unit_variance': False,\n",
       " 'pipeline__normalizer__scaler__with_centering': True,\n",
       " 'pipeline__normalizer__scaler__with_scaling': True,\n",
       " 'pipeline__normalizer__one_hot_encoder__categories': 'auto',\n",
       " 'pipeline__normalizer__one_hot_encoder__drop': None,\n",
       " 'pipeline__normalizer__one_hot_encoder__dtype': numpy.float64,\n",
       " 'pipeline__normalizer__one_hot_encoder__handle_unknown': 'error',\n",
       " 'pipeline__normalizer__one_hot_encoder__max_categories': None,\n",
       " 'pipeline__normalizer__one_hot_encoder__min_frequency': None,\n",
       " 'pipeline__normalizer__one_hot_encoder__sparse': 'deprecated',\n",
       " 'pipeline__normalizer__one_hot_encoder__sparse_output': True,\n",
       " 'polynomialfeatures__degree': 2,\n",
       " 'polynomialfeatures__include_bias': True,\n",
       " 'polynomialfeatures__interaction_only': False,\n",
       " 'polynomialfeatures__order': 'C',\n",
       " 'lasso__alpha': 1.0,\n",
       " 'lasso__copy_X': True,\n",
       " 'lasso__fit_intercept': True,\n",
       " 'lasso__max_iter': 1000,\n",
       " 'lasso__positive': False,\n",
       " 'lasso__precompute': False,\n",
       " 'lasso__random_state': None,\n",
       " 'lasso__selection': 'cyclic',\n",
       " 'lasso__tol': 0.0001,\n",
       " 'lasso__warm_start': False}"
      ]
     },
     "execution_count": 11,
     "metadata": {},
     "output_type": "execute_result"
    }
   ],
   "source": [
    "my_pipe_Lasso.get_params()"
   ]
  },
  {
   "cell_type": "markdown",
   "metadata": {},
   "source": [
    "## RIDGE "
   ]
  },
  {
   "cell_type": "code",
   "execution_count": 12,
   "metadata": {},
   "outputs": [],
   "source": [
    "my_pipe_ridge = make_pipeline(preprocessor, PolynomialFeatures(degree=2),Ridge())\n",
    "my_pipe_ridge.fit(X_train, y_train)\n",
    "cv2= cross_validate(my_pipe_ridge, X_train, y_train, cv=5, scoring= ['r2', 'neg_root_mean_squared_error'])"
   ]
  },
  {
   "cell_type": "code",
   "execution_count": 13,
   "metadata": {},
   "outputs": [
    {
     "data": {
      "text/plain": [
       "0.8317464379297779"
      ]
     },
     "execution_count": 13,
     "metadata": {},
     "output_type": "execute_result"
    }
   ],
   "source": [
    "score_ridge = cv2['test_r2'].mean()\n",
    "rmse_ridge = np.abs(cv2['test_neg_root_mean_squared_error'].mean())\n",
    "score_ridge"
   ]
  },
  {
   "cell_type": "code",
   "execution_count": 14,
   "metadata": {},
   "outputs": [
    {
     "data": {
      "text/plain": [
       "4923.720607721733"
      ]
     },
     "execution_count": 14,
     "metadata": {},
     "output_type": "execute_result"
    }
   ],
   "source": [
    "rmse_ridge"
   ]
  },
  {
   "cell_type": "code",
   "execution_count": 15,
   "metadata": {},
   "outputs": [
    {
     "data": {
      "text/plain": [
       "{'memory': None,\n",
       " 'steps': [('pipeline', Pipeline(steps=[('normalizer',\n",
       "                    ColumnTransformer(transformers=[('scaler', RobustScaler(),\n",
       "                                                     ['age', 'bmi', 'children']),\n",
       "                                                    ('one_hot_encoder',\n",
       "                                                     OneHotEncoder(),\n",
       "                                                     ['region', 'smoker',\n",
       "                                                      'sex'])]))])),\n",
       "  ('polynomialfeatures', PolynomialFeatures()),\n",
       "  ('ridge', Ridge())],\n",
       " 'verbose': False,\n",
       " 'pipeline': Pipeline(steps=[('normalizer',\n",
       "                  ColumnTransformer(transformers=[('scaler', RobustScaler(),\n",
       "                                                   ['age', 'bmi', 'children']),\n",
       "                                                  ('one_hot_encoder',\n",
       "                                                   OneHotEncoder(),\n",
       "                                                   ['region', 'smoker',\n",
       "                                                    'sex'])]))]),\n",
       " 'polynomialfeatures': PolynomialFeatures(),\n",
       " 'ridge': Ridge(),\n",
       " 'pipeline__memory': None,\n",
       " 'pipeline__steps': [('normalizer',\n",
       "   ColumnTransformer(transformers=[('scaler', RobustScaler(),\n",
       "                                    ['age', 'bmi', 'children']),\n",
       "                                   ('one_hot_encoder', OneHotEncoder(),\n",
       "                                    ['region', 'smoker', 'sex'])]))],\n",
       " 'pipeline__verbose': False,\n",
       " 'pipeline__normalizer': ColumnTransformer(transformers=[('scaler', RobustScaler(),\n",
       "                                  ['age', 'bmi', 'children']),\n",
       "                                 ('one_hot_encoder', OneHotEncoder(),\n",
       "                                  ['region', 'smoker', 'sex'])]),\n",
       " 'pipeline__normalizer__n_jobs': None,\n",
       " 'pipeline__normalizer__remainder': 'drop',\n",
       " 'pipeline__normalizer__sparse_threshold': 0.3,\n",
       " 'pipeline__normalizer__transformer_weights': None,\n",
       " 'pipeline__normalizer__transformers': [('scaler',\n",
       "   RobustScaler(),\n",
       "   ['age', 'bmi', 'children']),\n",
       "  ('one_hot_encoder', OneHotEncoder(), ['region', 'smoker', 'sex'])],\n",
       " 'pipeline__normalizer__verbose': False,\n",
       " 'pipeline__normalizer__verbose_feature_names_out': True,\n",
       " 'pipeline__normalizer__scaler': RobustScaler(),\n",
       " 'pipeline__normalizer__one_hot_encoder': OneHotEncoder(),\n",
       " 'pipeline__normalizer__scaler__copy': True,\n",
       " 'pipeline__normalizer__scaler__quantile_range': (25.0, 75.0),\n",
       " 'pipeline__normalizer__scaler__unit_variance': False,\n",
       " 'pipeline__normalizer__scaler__with_centering': True,\n",
       " 'pipeline__normalizer__scaler__with_scaling': True,\n",
       " 'pipeline__normalizer__one_hot_encoder__categories': 'auto',\n",
       " 'pipeline__normalizer__one_hot_encoder__drop': None,\n",
       " 'pipeline__normalizer__one_hot_encoder__dtype': numpy.float64,\n",
       " 'pipeline__normalizer__one_hot_encoder__handle_unknown': 'error',\n",
       " 'pipeline__normalizer__one_hot_encoder__max_categories': None,\n",
       " 'pipeline__normalizer__one_hot_encoder__min_frequency': None,\n",
       " 'pipeline__normalizer__one_hot_encoder__sparse': 'deprecated',\n",
       " 'pipeline__normalizer__one_hot_encoder__sparse_output': True,\n",
       " 'polynomialfeatures__degree': 2,\n",
       " 'polynomialfeatures__include_bias': True,\n",
       " 'polynomialfeatures__interaction_only': False,\n",
       " 'polynomialfeatures__order': 'C',\n",
       " 'ridge__alpha': 1.0,\n",
       " 'ridge__copy_X': True,\n",
       " 'ridge__fit_intercept': True,\n",
       " 'ridge__max_iter': None,\n",
       " 'ridge__positive': False,\n",
       " 'ridge__random_state': None,\n",
       " 'ridge__solver': 'auto',\n",
       " 'ridge__tol': 0.0001}"
      ]
     },
     "execution_count": 15,
     "metadata": {},
     "output_type": "execute_result"
    }
   ],
   "source": [
    "my_pipe_ridge.get_params()"
   ]
  },
  {
   "cell_type": "markdown",
   "metadata": {},
   "source": [
    "###### Ce code recherche les meilleurs hyperparamètres pour un modèle de régression linéaire Ridge en utilisant GridSearchCV. GridSearchCV est une fonction d'optimisation qui permet d'explorer un espace de recherche des hyperparamètres afin de trouver les meilleurs paramètres pour le modèle. Le code crée un objet GridSearchCV qui prend en entrée une pipeline et un jeu d'hyperparamètres, puis entraîne le modèle en utilisant les données d'entraînement. Une fois l'entraînement terminé, GridSearchCV retourne le meilleur jeu d'hyperparamètres pour le modèle, ainsi que le score le plus élevé obtenu avec ce jeu d'hyperparamètres. Enfin, le code met à jour le modèle avec les meilleurs hyperparamètres trouvés."
   ]
  },
  {
   "cell_type": "code",
   "execution_count": 16,
   "metadata": {},
   "outputs": [
    {
     "data": {
      "text/plain": [
       "0.8323599209528769"
      ]
     },
     "execution_count": 16,
     "metadata": {},
     "output_type": "execute_result"
    }
   ],
   "source": [
    "hyperparametres = {'ridge__alpha': [0.01,0.1, 0.2,0.5, 1,10]}\n",
    "random_search = RandomizedSearchCV(my_pipe_ridge, hyperparametres, cv=5, n_iter=3)\n",
    "random_search.fit(X_train, y_train)\n",
    "best_params = random_search.best_params_\n",
    "\n",
    "grid_search = GridSearchCV(my_pipe_ridge, hyperparametres, cv= 5)\n",
    "grid_search.fit(X_train,y_train)\n",
    "\n",
    "\n",
    "my_pipe_ridge.set_params(**grid_search.best_params_)\n",
    "ridge_score = grid_search.best_score_\n",
    "ridge_score"
   ]
  },
  {
   "cell_type": "markdown",
   "metadata": {},
   "source": [
    "## ELASTIC NET"
   ]
  },
  {
   "cell_type": "code",
   "execution_count": 17,
   "metadata": {},
   "outputs": [],
   "source": [
    "my_pipe_elastic_net = make_pipeline(preprocessor, PolynomialFeatures(degree=2), ElasticNet(max_iter= 100, random_state=42))\n",
    "\n",
    "my_pipe_elastic_net.fit(X_train, y_train)\n",
    "cv_enet = cross_validate(my_pipe_elastic_net, X_train, y_train, cv=5, scoring= ['r2', 'neg_root_mean_squared_error'])\n"
   ]
  },
  {
   "cell_type": "code",
   "execution_count": 18,
   "metadata": {},
   "outputs": [
    {
     "name": "stderr",
     "output_type": "stream",
     "text": [
      "/home/yanis/miniconda3/envs/data_analyse_env/lib/python3.10/site-packages/sklearn/linear_model/_coordinate_descent.py:634: ConvergenceWarning: Objective did not converge. You might want to increase the number of iterations, check the scale of the features or consider increasing regularisation. Duality gap: 1.827e+10, tolerance: 1.329e+07 Linear regression models with null weight for the l1 regularization term are more efficiently fitted using one of the solvers implemented in sklearn.linear_model.Ridge/RidgeCV instead.\n",
      "  model = cd_fast.enet_coordinate_descent(\n",
      "/home/yanis/miniconda3/envs/data_analyse_env/lib/python3.10/site-packages/sklearn/linear_model/_coordinate_descent.py:634: ConvergenceWarning: Objective did not converge. You might want to increase the number of iterations, check the scale of the features or consider increasing regularisation. Duality gap: 1.818e+10, tolerance: 1.334e+07 Linear regression models with null weight for the l1 regularization term are more efficiently fitted using one of the solvers implemented in sklearn.linear_model.Ridge/RidgeCV instead.\n",
      "  model = cd_fast.enet_coordinate_descent(\n",
      "/home/yanis/miniconda3/envs/data_analyse_env/lib/python3.10/site-packages/sklearn/linear_model/_coordinate_descent.py:634: ConvergenceWarning: Objective did not converge. You might want to increase the number of iterations, check the scale of the features or consider increasing regularisation. Duality gap: 1.752e+10, tolerance: 1.358e+07 Linear regression models with null weight for the l1 regularization term are more efficiently fitted using one of the solvers implemented in sklearn.linear_model.Ridge/RidgeCV instead.\n",
      "  model = cd_fast.enet_coordinate_descent(\n",
      "/home/yanis/miniconda3/envs/data_analyse_env/lib/python3.10/site-packages/sklearn/linear_model/_coordinate_descent.py:634: ConvergenceWarning: Objective did not converge. You might want to increase the number of iterations, check the scale of the features or consider increasing regularisation. Duality gap: 1.832e+10, tolerance: 1.338e+07 Linear regression models with null weight for the l1 regularization term are more efficiently fitted using one of the solvers implemented in sklearn.linear_model.Ridge/RidgeCV instead.\n",
      "  model = cd_fast.enet_coordinate_descent(\n",
      "/home/yanis/miniconda3/envs/data_analyse_env/lib/python3.10/site-packages/sklearn/linear_model/_coordinate_descent.py:634: ConvergenceWarning: Objective did not converge. You might want to increase the number of iterations, check the scale of the features or consider increasing regularisation. Duality gap: 1.752e+10, tolerance: 1.304e+07 Linear regression models with null weight for the l1 regularization term are more efficiently fitted using one of the solvers implemented in sklearn.linear_model.Ridge/RidgeCV instead.\n",
      "  model = cd_fast.enet_coordinate_descent(\n",
      "/home/yanis/miniconda3/envs/data_analyse_env/lib/python3.10/site-packages/sklearn/linear_model/_coordinate_descent.py:634: ConvergenceWarning: Objective did not converge. You might want to increase the number of iterations, check the scale of the features or consider increasing regularisation. Duality gap: 2.892e+09, tolerance: 1.329e+07\n",
      "  model = cd_fast.enet_coordinate_descent(\n",
      "/home/yanis/miniconda3/envs/data_analyse_env/lib/python3.10/site-packages/sklearn/linear_model/_coordinate_descent.py:634: ConvergenceWarning: Objective did not converge. You might want to increase the number of iterations, check the scale of the features or consider increasing regularisation. Duality gap: 3.043e+09, tolerance: 1.334e+07\n",
      "  model = cd_fast.enet_coordinate_descent(\n",
      "/home/yanis/miniconda3/envs/data_analyse_env/lib/python3.10/site-packages/sklearn/linear_model/_coordinate_descent.py:634: ConvergenceWarning: Objective did not converge. You might want to increase the number of iterations, check the scale of the features or consider increasing regularisation. Duality gap: 1.655e+09, tolerance: 1.358e+07\n",
      "  model = cd_fast.enet_coordinate_descent(\n",
      "/home/yanis/miniconda3/envs/data_analyse_env/lib/python3.10/site-packages/sklearn/linear_model/_coordinate_descent.py:634: ConvergenceWarning: Objective did not converge. You might want to increase the number of iterations, check the scale of the features or consider increasing regularisation. Duality gap: 2.269e+09, tolerance: 1.338e+07\n",
      "  model = cd_fast.enet_coordinate_descent(\n",
      "/home/yanis/miniconda3/envs/data_analyse_env/lib/python3.10/site-packages/sklearn/linear_model/_coordinate_descent.py:634: ConvergenceWarning: Objective did not converge. You might want to increase the number of iterations, check the scale of the features or consider increasing regularisation. Duality gap: 1.691e+09, tolerance: 1.304e+07\n",
      "  model = cd_fast.enet_coordinate_descent(\n",
      "/home/yanis/miniconda3/envs/data_analyse_env/lib/python3.10/site-packages/sklearn/linear_model/_coordinate_descent.py:634: ConvergenceWarning: Objective did not converge. You might want to increase the number of iterations, check the scale of the features or consider increasing regularisation. Duality gap: 4.106e+10, tolerance: 1.329e+07 Linear regression models with null weight for the l1 regularization term are more efficiently fitted using one of the solvers implemented in sklearn.linear_model.Ridge/RidgeCV instead.\n",
      "  model = cd_fast.enet_coordinate_descent(\n",
      "/home/yanis/miniconda3/envs/data_analyse_env/lib/python3.10/site-packages/sklearn/linear_model/_coordinate_descent.py:634: ConvergenceWarning: Objective did not converge. You might want to increase the number of iterations, check the scale of the features or consider increasing regularisation. Duality gap: 4.109e+10, tolerance: 1.334e+07 Linear regression models with null weight for the l1 regularization term are more efficiently fitted using one of the solvers implemented in sklearn.linear_model.Ridge/RidgeCV instead.\n",
      "  model = cd_fast.enet_coordinate_descent(\n",
      "/home/yanis/miniconda3/envs/data_analyse_env/lib/python3.10/site-packages/sklearn/linear_model/_coordinate_descent.py:634: ConvergenceWarning: Objective did not converge. You might want to increase the number of iterations, check the scale of the features or consider increasing regularisation. Duality gap: 4.092e+10, tolerance: 1.358e+07 Linear regression models with null weight for the l1 regularization term are more efficiently fitted using one of the solvers implemented in sklearn.linear_model.Ridge/RidgeCV instead.\n",
      "  model = cd_fast.enet_coordinate_descent(\n",
      "/home/yanis/miniconda3/envs/data_analyse_env/lib/python3.10/site-packages/sklearn/linear_model/_coordinate_descent.py:634: ConvergenceWarning: Objective did not converge. You might want to increase the number of iterations, check the scale of the features or consider increasing regularisation. Duality gap: 4.131e+10, tolerance: 1.338e+07 Linear regression models with null weight for the l1 regularization term are more efficiently fitted using one of the solvers implemented in sklearn.linear_model.Ridge/RidgeCV instead.\n",
      "  model = cd_fast.enet_coordinate_descent(\n",
      "/home/yanis/miniconda3/envs/data_analyse_env/lib/python3.10/site-packages/sklearn/linear_model/_coordinate_descent.py:634: ConvergenceWarning: Objective did not converge. You might want to increase the number of iterations, check the scale of the features or consider increasing regularisation. Duality gap: 4.052e+10, tolerance: 1.304e+07 Linear regression models with null weight for the l1 regularization term are more efficiently fitted using one of the solvers implemented in sklearn.linear_model.Ridge/RidgeCV instead.\n",
      "  model = cd_fast.enet_coordinate_descent(\n",
      "/home/yanis/miniconda3/envs/data_analyse_env/lib/python3.10/site-packages/sklearn/linear_model/_coordinate_descent.py:634: ConvergenceWarning: Objective did not converge. You might want to increase the number of iterations, check the scale of the features or consider increasing regularisation. Duality gap: 3.321e+09, tolerance: 1.329e+07\n",
      "  model = cd_fast.enet_coordinate_descent(\n",
      "/home/yanis/miniconda3/envs/data_analyse_env/lib/python3.10/site-packages/sklearn/linear_model/_coordinate_descent.py:634: ConvergenceWarning: Objective did not converge. You might want to increase the number of iterations, check the scale of the features or consider increasing regularisation. Duality gap: 3.699e+09, tolerance: 1.334e+07\n",
      "  model = cd_fast.enet_coordinate_descent(\n",
      "/home/yanis/miniconda3/envs/data_analyse_env/lib/python3.10/site-packages/sklearn/linear_model/_coordinate_descent.py:634: ConvergenceWarning: Objective did not converge. You might want to increase the number of iterations, check the scale of the features or consider increasing regularisation. Duality gap: 3.062e+09, tolerance: 1.358e+07\n",
      "  model = cd_fast.enet_coordinate_descent(\n",
      "/home/yanis/miniconda3/envs/data_analyse_env/lib/python3.10/site-packages/sklearn/linear_model/_coordinate_descent.py:634: ConvergenceWarning: Objective did not converge. You might want to increase the number of iterations, check the scale of the features or consider increasing regularisation. Duality gap: 3.737e+09, tolerance: 1.338e+07\n",
      "  model = cd_fast.enet_coordinate_descent(\n",
      "/home/yanis/miniconda3/envs/data_analyse_env/lib/python3.10/site-packages/sklearn/linear_model/_coordinate_descent.py:634: ConvergenceWarning: Objective did not converge. You might want to increase the number of iterations, check the scale of the features or consider increasing regularisation. Duality gap: 2.782e+09, tolerance: 1.304e+07\n",
      "  model = cd_fast.enet_coordinate_descent(\n",
      "/home/yanis/miniconda3/envs/data_analyse_env/lib/python3.10/site-packages/sklearn/linear_model/_coordinate_descent.py:634: ConvergenceWarning: Objective did not converge. You might want to increase the number of iterations, check the scale of the features or consider increasing regularisation. Duality gap: 6.229e+10, tolerance: 1.329e+07 Linear regression models with null weight for the l1 regularization term are more efficiently fitted using one of the solvers implemented in sklearn.linear_model.Ridge/RidgeCV instead.\n",
      "  model = cd_fast.enet_coordinate_descent(\n",
      "/home/yanis/miniconda3/envs/data_analyse_env/lib/python3.10/site-packages/sklearn/linear_model/_coordinate_descent.py:634: ConvergenceWarning: Objective did not converge. You might want to increase the number of iterations, check the scale of the features or consider increasing regularisation. Duality gap: 6.252e+10, tolerance: 1.334e+07 Linear regression models with null weight for the l1 regularization term are more efficiently fitted using one of the solvers implemented in sklearn.linear_model.Ridge/RidgeCV instead.\n",
      "  model = cd_fast.enet_coordinate_descent(\n",
      "/home/yanis/miniconda3/envs/data_analyse_env/lib/python3.10/site-packages/sklearn/linear_model/_coordinate_descent.py:634: ConvergenceWarning: Objective did not converge. You might want to increase the number of iterations, check the scale of the features or consider increasing regularisation. Duality gap: 6.342e+10, tolerance: 1.358e+07 Linear regression models with null weight for the l1 regularization term are more efficiently fitted using one of the solvers implemented in sklearn.linear_model.Ridge/RidgeCV instead.\n",
      "  model = cd_fast.enet_coordinate_descent(\n",
      "/home/yanis/miniconda3/envs/data_analyse_env/lib/python3.10/site-packages/sklearn/linear_model/_coordinate_descent.py:634: ConvergenceWarning: Objective did not converge. You might want to increase the number of iterations, check the scale of the features or consider increasing regularisation. Duality gap: 6.270e+10, tolerance: 1.338e+07 Linear regression models with null weight for the l1 regularization term are more efficiently fitted using one of the solvers implemented in sklearn.linear_model.Ridge/RidgeCV instead.\n",
      "  model = cd_fast.enet_coordinate_descent(\n",
      "/home/yanis/miniconda3/envs/data_analyse_env/lib/python3.10/site-packages/sklearn/linear_model/_coordinate_descent.py:634: ConvergenceWarning: Objective did not converge. You might want to increase the number of iterations, check the scale of the features or consider increasing regularisation. Duality gap: 6.127e+10, tolerance: 1.304e+07 Linear regression models with null weight for the l1 regularization term are more efficiently fitted using one of the solvers implemented in sklearn.linear_model.Ridge/RidgeCV instead.\n",
      "  model = cd_fast.enet_coordinate_descent(\n",
      "/home/yanis/miniconda3/envs/data_analyse_env/lib/python3.10/site-packages/sklearn/linear_model/_coordinate_descent.py:634: ConvergenceWarning: Objective did not converge. You might want to increase the number of iterations, check the scale of the features or consider increasing regularisation. Duality gap: 9.427e+08, tolerance: 1.329e+07\n",
      "  model = cd_fast.enet_coordinate_descent(\n",
      "/home/yanis/miniconda3/envs/data_analyse_env/lib/python3.10/site-packages/sklearn/linear_model/_coordinate_descent.py:634: ConvergenceWarning: Objective did not converge. You might want to increase the number of iterations, check the scale of the features or consider increasing regularisation. Duality gap: 8.641e+08, tolerance: 1.334e+07\n",
      "  model = cd_fast.enet_coordinate_descent(\n",
      "/home/yanis/miniconda3/envs/data_analyse_env/lib/python3.10/site-packages/sklearn/linear_model/_coordinate_descent.py:634: ConvergenceWarning: Objective did not converge. You might want to increase the number of iterations, check the scale of the features or consider increasing regularisation. Duality gap: 7.717e+08, tolerance: 1.358e+07\n",
      "  model = cd_fast.enet_coordinate_descent(\n",
      "/home/yanis/miniconda3/envs/data_analyse_env/lib/python3.10/site-packages/sklearn/linear_model/_coordinate_descent.py:634: ConvergenceWarning: Objective did not converge. You might want to increase the number of iterations, check the scale of the features or consider increasing regularisation. Duality gap: 9.124e+08, tolerance: 1.338e+07\n",
      "  model = cd_fast.enet_coordinate_descent(\n",
      "/home/yanis/miniconda3/envs/data_analyse_env/lib/python3.10/site-packages/sklearn/linear_model/_coordinate_descent.py:634: ConvergenceWarning: Objective did not converge. You might want to increase the number of iterations, check the scale of the features or consider increasing regularisation. Duality gap: 7.728e+08, tolerance: 1.304e+07\n",
      "  model = cd_fast.enet_coordinate_descent(\n",
      "/home/yanis/miniconda3/envs/data_analyse_env/lib/python3.10/site-packages/sklearn/linear_model/_coordinate_descent.py:634: ConvergenceWarning: Objective did not converge. You might want to increase the number of iterations, check the scale of the features or consider increasing regularisation. Duality gap: 1.092e+09, tolerance: 1.666e+07\n",
      "  model = cd_fast.enet_coordinate_descent(\n"
     ]
    },
    {
     "data": {
      "text/html": [
       "<style>#sk-container-id-1 {color: black;background-color: white;}#sk-container-id-1 pre{padding: 0;}#sk-container-id-1 div.sk-toggleable {background-color: white;}#sk-container-id-1 label.sk-toggleable__label {cursor: pointer;display: block;width: 100%;margin-bottom: 0;padding: 0.3em;box-sizing: border-box;text-align: center;}#sk-container-id-1 label.sk-toggleable__label-arrow:before {content: \"▸\";float: left;margin-right: 0.25em;color: #696969;}#sk-container-id-1 label.sk-toggleable__label-arrow:hover:before {color: black;}#sk-container-id-1 div.sk-estimator:hover label.sk-toggleable__label-arrow:before {color: black;}#sk-container-id-1 div.sk-toggleable__content {max-height: 0;max-width: 0;overflow: hidden;text-align: left;background-color: #f0f8ff;}#sk-container-id-1 div.sk-toggleable__content pre {margin: 0.2em;color: black;border-radius: 0.25em;background-color: #f0f8ff;}#sk-container-id-1 input.sk-toggleable__control:checked~div.sk-toggleable__content {max-height: 200px;max-width: 100%;overflow: auto;}#sk-container-id-1 input.sk-toggleable__control:checked~label.sk-toggleable__label-arrow:before {content: \"▾\";}#sk-container-id-1 div.sk-estimator input.sk-toggleable__control:checked~label.sk-toggleable__label {background-color: #d4ebff;}#sk-container-id-1 div.sk-label input.sk-toggleable__control:checked~label.sk-toggleable__label {background-color: #d4ebff;}#sk-container-id-1 input.sk-hidden--visually {border: 0;clip: rect(1px 1px 1px 1px);clip: rect(1px, 1px, 1px, 1px);height: 1px;margin: -1px;overflow: hidden;padding: 0;position: absolute;width: 1px;}#sk-container-id-1 div.sk-estimator {font-family: monospace;background-color: #f0f8ff;border: 1px dotted black;border-radius: 0.25em;box-sizing: border-box;margin-bottom: 0.5em;}#sk-container-id-1 div.sk-estimator:hover {background-color: #d4ebff;}#sk-container-id-1 div.sk-parallel-item::after {content: \"\";width: 100%;border-bottom: 1px solid gray;flex-grow: 1;}#sk-container-id-1 div.sk-label:hover label.sk-toggleable__label {background-color: #d4ebff;}#sk-container-id-1 div.sk-serial::before {content: \"\";position: absolute;border-left: 1px solid gray;box-sizing: border-box;top: 0;bottom: 0;left: 50%;z-index: 0;}#sk-container-id-1 div.sk-serial {display: flex;flex-direction: column;align-items: center;background-color: white;padding-right: 0.2em;padding-left: 0.2em;position: relative;}#sk-container-id-1 div.sk-item {position: relative;z-index: 1;}#sk-container-id-1 div.sk-parallel {display: flex;align-items: stretch;justify-content: center;background-color: white;position: relative;}#sk-container-id-1 div.sk-item::before, #sk-container-id-1 div.sk-parallel-item::before {content: \"\";position: absolute;border-left: 1px solid gray;box-sizing: border-box;top: 0;bottom: 0;left: 50%;z-index: -1;}#sk-container-id-1 div.sk-parallel-item {display: flex;flex-direction: column;z-index: 1;position: relative;background-color: white;}#sk-container-id-1 div.sk-parallel-item:first-child::after {align-self: flex-end;width: 50%;}#sk-container-id-1 div.sk-parallel-item:last-child::after {align-self: flex-start;width: 50%;}#sk-container-id-1 div.sk-parallel-item:only-child::after {width: 0;}#sk-container-id-1 div.sk-dashed-wrapped {border: 1px dashed gray;margin: 0 0.4em 0.5em 0.4em;box-sizing: border-box;padding-bottom: 0.4em;background-color: white;}#sk-container-id-1 div.sk-label label {font-family: monospace;font-weight: bold;display: inline-block;line-height: 1.2em;}#sk-container-id-1 div.sk-label-container {text-align: center;}#sk-container-id-1 div.sk-container {/* jupyter's `normalize.less` sets `[hidden] { display: none; }` but bootstrap.min.css set `[hidden] { display: none !important; }` so we also need the `!important` here to be able to override the default hidden behavior on the sphinx rendered scikit-learn.org. See: https://github.com/scikit-learn/scikit-learn/issues/21755 */display: inline-block !important;position: relative;}#sk-container-id-1 div.sk-text-repr-fallback {display: none;}</style><div id=\"sk-container-id-1\" class=\"sk-top-container\"><div class=\"sk-text-repr-fallback\"><pre>Pipeline(steps=[(&#x27;pipeline&#x27;,\n",
       "                 Pipeline(steps=[(&#x27;normalizer&#x27;,\n",
       "                                  ColumnTransformer(transformers=[(&#x27;scaler&#x27;,\n",
       "                                                                   RobustScaler(),\n",
       "                                                                   [&#x27;age&#x27;,\n",
       "                                                                    &#x27;bmi&#x27;,\n",
       "                                                                    &#x27;children&#x27;]),\n",
       "                                                                  (&#x27;one_hot_encoder&#x27;,\n",
       "                                                                   OneHotEncoder(),\n",
       "                                                                   [&#x27;region&#x27;,\n",
       "                                                                    &#x27;smoker&#x27;,\n",
       "                                                                    &#x27;sex&#x27;])]))])),\n",
       "                (&#x27;polynomialfeatures&#x27;, PolynomialFeatures()),\n",
       "                (&#x27;elasticnet&#x27;,\n",
       "                 ElasticNet(alpha=10, l1_ratio=1.0, max_iter=100,\n",
       "                            random_state=42))])</pre><b>In a Jupyter environment, please rerun this cell to show the HTML representation or trust the notebook. <br />On GitHub, the HTML representation is unable to render, please try loading this page with nbviewer.org.</b></div><div class=\"sk-container\" hidden><div class=\"sk-item sk-dashed-wrapped\"><div class=\"sk-label-container\"><div class=\"sk-label sk-toggleable\"><input class=\"sk-toggleable__control sk-hidden--visually\" id=\"sk-estimator-id-1\" type=\"checkbox\" ><label for=\"sk-estimator-id-1\" class=\"sk-toggleable__label sk-toggleable__label-arrow\">Pipeline</label><div class=\"sk-toggleable__content\"><pre>Pipeline(steps=[(&#x27;pipeline&#x27;,\n",
       "                 Pipeline(steps=[(&#x27;normalizer&#x27;,\n",
       "                                  ColumnTransformer(transformers=[(&#x27;scaler&#x27;,\n",
       "                                                                   RobustScaler(),\n",
       "                                                                   [&#x27;age&#x27;,\n",
       "                                                                    &#x27;bmi&#x27;,\n",
       "                                                                    &#x27;children&#x27;]),\n",
       "                                                                  (&#x27;one_hot_encoder&#x27;,\n",
       "                                                                   OneHotEncoder(),\n",
       "                                                                   [&#x27;region&#x27;,\n",
       "                                                                    &#x27;smoker&#x27;,\n",
       "                                                                    &#x27;sex&#x27;])]))])),\n",
       "                (&#x27;polynomialfeatures&#x27;, PolynomialFeatures()),\n",
       "                (&#x27;elasticnet&#x27;,\n",
       "                 ElasticNet(alpha=10, l1_ratio=1.0, max_iter=100,\n",
       "                            random_state=42))])</pre></div></div></div><div class=\"sk-serial\"><div class=\"sk-item\"><div class=\"sk-label-container\"><div class=\"sk-label sk-toggleable\"><input class=\"sk-toggleable__control sk-hidden--visually\" id=\"sk-estimator-id-2\" type=\"checkbox\" ><label for=\"sk-estimator-id-2\" class=\"sk-toggleable__label sk-toggleable__label-arrow\">pipeline: Pipeline</label><div class=\"sk-toggleable__content\"><pre>Pipeline(steps=[(&#x27;normalizer&#x27;,\n",
       "                 ColumnTransformer(transformers=[(&#x27;scaler&#x27;, RobustScaler(),\n",
       "                                                  [&#x27;age&#x27;, &#x27;bmi&#x27;, &#x27;children&#x27;]),\n",
       "                                                 (&#x27;one_hot_encoder&#x27;,\n",
       "                                                  OneHotEncoder(),\n",
       "                                                  [&#x27;region&#x27;, &#x27;smoker&#x27;,\n",
       "                                                   &#x27;sex&#x27;])]))])</pre></div></div></div><div class=\"sk-serial\"><div class=\"sk-item sk-dashed-wrapped\"><div class=\"sk-label-container\"><div class=\"sk-label sk-toggleable\"><input class=\"sk-toggleable__control sk-hidden--visually\" id=\"sk-estimator-id-3\" type=\"checkbox\" ><label for=\"sk-estimator-id-3\" class=\"sk-toggleable__label sk-toggleable__label-arrow\">normalizer: ColumnTransformer</label><div class=\"sk-toggleable__content\"><pre>ColumnTransformer(transformers=[(&#x27;scaler&#x27;, RobustScaler(),\n",
       "                                 [&#x27;age&#x27;, &#x27;bmi&#x27;, &#x27;children&#x27;]),\n",
       "                                (&#x27;one_hot_encoder&#x27;, OneHotEncoder(),\n",
       "                                 [&#x27;region&#x27;, &#x27;smoker&#x27;, &#x27;sex&#x27;])])</pre></div></div></div><div class=\"sk-parallel\"><div class=\"sk-parallel-item\"><div class=\"sk-item\"><div class=\"sk-label-container\"><div class=\"sk-label sk-toggleable\"><input class=\"sk-toggleable__control sk-hidden--visually\" id=\"sk-estimator-id-4\" type=\"checkbox\" ><label for=\"sk-estimator-id-4\" class=\"sk-toggleable__label sk-toggleable__label-arrow\">scaler</label><div class=\"sk-toggleable__content\"><pre>[&#x27;age&#x27;, &#x27;bmi&#x27;, &#x27;children&#x27;]</pre></div></div></div><div class=\"sk-serial\"><div class=\"sk-item\"><div class=\"sk-estimator sk-toggleable\"><input class=\"sk-toggleable__control sk-hidden--visually\" id=\"sk-estimator-id-5\" type=\"checkbox\" ><label for=\"sk-estimator-id-5\" class=\"sk-toggleable__label sk-toggleable__label-arrow\">RobustScaler</label><div class=\"sk-toggleable__content\"><pre>RobustScaler()</pre></div></div></div></div></div></div><div class=\"sk-parallel-item\"><div class=\"sk-item\"><div class=\"sk-label-container\"><div class=\"sk-label sk-toggleable\"><input class=\"sk-toggleable__control sk-hidden--visually\" id=\"sk-estimator-id-6\" type=\"checkbox\" ><label for=\"sk-estimator-id-6\" class=\"sk-toggleable__label sk-toggleable__label-arrow\">one_hot_encoder</label><div class=\"sk-toggleable__content\"><pre>[&#x27;region&#x27;, &#x27;smoker&#x27;, &#x27;sex&#x27;]</pre></div></div></div><div class=\"sk-serial\"><div class=\"sk-item\"><div class=\"sk-estimator sk-toggleable\"><input class=\"sk-toggleable__control sk-hidden--visually\" id=\"sk-estimator-id-7\" type=\"checkbox\" ><label for=\"sk-estimator-id-7\" class=\"sk-toggleable__label sk-toggleable__label-arrow\">OneHotEncoder</label><div class=\"sk-toggleable__content\"><pre>OneHotEncoder()</pre></div></div></div></div></div></div></div></div></div></div><div class=\"sk-item\"><div class=\"sk-estimator sk-toggleable\"><input class=\"sk-toggleable__control sk-hidden--visually\" id=\"sk-estimator-id-8\" type=\"checkbox\" ><label for=\"sk-estimator-id-8\" class=\"sk-toggleable__label sk-toggleable__label-arrow\">PolynomialFeatures</label><div class=\"sk-toggleable__content\"><pre>PolynomialFeatures()</pre></div></div></div><div class=\"sk-item\"><div class=\"sk-estimator sk-toggleable\"><input class=\"sk-toggleable__control sk-hidden--visually\" id=\"sk-estimator-id-9\" type=\"checkbox\" ><label for=\"sk-estimator-id-9\" class=\"sk-toggleable__label sk-toggleable__label-arrow\">ElasticNet</label><div class=\"sk-toggleable__content\"><pre>ElasticNet(alpha=10, l1_ratio=1.0, max_iter=100, random_state=42)</pre></div></div></div></div></div></div></div>"
      ],
      "text/plain": [
       "Pipeline(steps=[('pipeline',\n",
       "                 Pipeline(steps=[('normalizer',\n",
       "                                  ColumnTransformer(transformers=[('scaler',\n",
       "                                                                   RobustScaler(),\n",
       "                                                                   ['age',\n",
       "                                                                    'bmi',\n",
       "                                                                    'children']),\n",
       "                                                                  ('one_hot_encoder',\n",
       "                                                                   OneHotEncoder(),\n",
       "                                                                   ['region',\n",
       "                                                                    'smoker',\n",
       "                                                                    'sex'])]))])),\n",
       "                ('polynomialfeatures', PolynomialFeatures()),\n",
       "                ('elasticnet',\n",
       "                 ElasticNet(alpha=10, l1_ratio=1.0, max_iter=100,\n",
       "                            random_state=42))])"
      ]
     },
     "execution_count": 18,
     "metadata": {},
     "output_type": "execute_result"
    }
   ],
   "source": [
    "param_grid = {'elasticnet__alpha':[0.1,0.9,10],\n",
    "              'elasticnet__l1_ratio':[0.0,1.0,0.1]}\n",
    "\n",
    "grid = GridSearchCV(my_pipe_elastic_net, param_grid, cv = 5, scoring = 'r2')\n",
    "grid.fit(X_train, y_train)\n",
    "my_pipe_elastic_net.set_params(**grid.best_params_)\n"
   ]
  },
  {
   "cell_type": "code",
   "execution_count": 19,
   "metadata": {},
   "outputs": [
    {
     "name": "stdout",
     "output_type": "stream",
     "text": [
      "Meilleurs hyperparametres :  {'elasticnet__alpha': 10, 'elasticnet__l1_ratio': 1.0}\n",
      "Meilleur score :  0.832845492384848\n"
     ]
    }
   ],
   "source": [
    "print(\"Meilleurs hyperparametres : \", grid.best_params_)\n",
    "print(\"Meilleur score : \", grid.best_score_)"
   ]
  },
  {
   "cell_type": "code",
   "execution_count": 20,
   "metadata": {},
   "outputs": [
    {
     "data": {
      "text/plain": [
       "0.832845492384848"
      ]
     },
     "execution_count": 20,
     "metadata": {},
     "output_type": "execute_result"
    }
   ],
   "source": [
    "elastic_score = grid.best_score_ \n",
    "elastic_score"
   ]
  },
  {
   "cell_type": "markdown",
   "metadata": {},
   "source": [
    "## Calcul des residuals Elastic net "
   ]
  },
  {
   "cell_type": "code",
   "execution_count": 21,
   "metadata": {},
   "outputs": [
    {
     "data": {
      "text/plain": [
       "array([[ 8583.32368327],\n",
       "       [30357.83881528],\n",
       "       [ 8027.43646846],\n",
       "       ...,\n",
       "       [10374.2375199 ],\n",
       "       [11078.61595962],\n",
       "       [ 7034.75457596]])"
      ]
     },
     "execution_count": 21,
     "metadata": {},
     "output_type": "execute_result"
    }
   ],
   "source": [
    "y_pred_enet = my_pipe_elastic_net.predict(X_train)\n",
    "y_pred_enet = y_pred_enet.reshape(1137,1)\n",
    "y_pred_enet"
   ]
  },
  {
   "cell_type": "code",
   "execution_count": 22,
   "metadata": {},
   "outputs": [
    {
     "data": {
      "text/html": [
       "<div>\n",
       "<style scoped>\n",
       "    .dataframe tbody tr th:only-of-type {\n",
       "        vertical-align: middle;\n",
       "    }\n",
       "\n",
       "    .dataframe tbody tr th {\n",
       "        vertical-align: top;\n",
       "    }\n",
       "\n",
       "    .dataframe thead th {\n",
       "        text-align: right;\n",
       "    }\n",
       "</style>\n",
       "<table border=\"1\" class=\"dataframe\">\n",
       "  <thead>\n",
       "    <tr style=\"text-align: right;\">\n",
       "      <th></th>\n",
       "      <th>charges</th>\n",
       "    </tr>\n",
       "  </thead>\n",
       "  <tbody>\n",
       "    <tr>\n",
       "      <th>699</th>\n",
       "      <td>5082.711383</td>\n",
       "    </tr>\n",
       "    <tr>\n",
       "      <th>1323</th>\n",
       "      <td>13538.537485</td>\n",
       "    </tr>\n",
       "    <tr>\n",
       "      <th>468</th>\n",
       "      <td>15261.491932</td>\n",
       "    </tr>\n",
       "    <tr>\n",
       "      <th>170</th>\n",
       "      <td>2036.320312</td>\n",
       "    </tr>\n",
       "    <tr>\n",
       "      <th>376</th>\n",
       "      <td>999.771942</td>\n",
       "    </tr>\n",
       "    <tr>\n",
       "      <th>...</th>\n",
       "      <td>...</td>\n",
       "    </tr>\n",
       "    <tr>\n",
       "      <th>627</th>\n",
       "      <td>949.617443</td>\n",
       "    </tr>\n",
       "    <tr>\n",
       "      <th>76</th>\n",
       "      <td>4314.517161</td>\n",
       "    </tr>\n",
       "    <tr>\n",
       "      <th>319</th>\n",
       "      <td>5706.629870</td>\n",
       "    </tr>\n",
       "    <tr>\n",
       "      <th>197</th>\n",
       "      <td>2561.786960</td>\n",
       "    </tr>\n",
       "    <tr>\n",
       "      <th>1147</th>\n",
       "      <td>4773.185776</td>\n",
       "    </tr>\n",
       "  </tbody>\n",
       "</table>\n",
       "<p>1137 rows × 1 columns</p>\n",
       "</div>"
      ],
      "text/plain": [
       "           charges\n",
       "699    5082.711383\n",
       "1323  13538.537485\n",
       "468   15261.491932\n",
       "170    2036.320312\n",
       "376     999.771942\n",
       "...            ...\n",
       "627     949.617443\n",
       "76     4314.517161\n",
       "319    5706.629870\n",
       "197    2561.786960\n",
       "1147   4773.185776\n",
       "\n",
       "[1137 rows x 1 columns]"
      ]
     },
     "execution_count": 22,
     "metadata": {},
     "output_type": "execute_result"
    }
   ],
   "source": [
    "residual_enet = (y_pred_enet-y_train).abs()\n",
    "residual_enet"
   ]
  },
  {
   "cell_type": "code",
   "execution_count": 23,
   "metadata": {},
   "outputs": [
    {
     "data": {
      "image/png": "[encoded data removed]",
      "text/plain": [
       "<Figure size 640x480 with 1 Axes>"
      ]
     },
     "metadata": {},
     "output_type": "display_data"
    }
   ],
   "source": [
    "#plot residuals POUR ELASTIC NET \n",
    "\n",
    "plt.scatter(y_train.index, residual_enet , color=\"blue\")\n",
    "plt.title(\"Erreurs de prédictions ELASTIC NET (residuals)\")\n",
    "plt.xlabel(\"Charges réelles\")\n",
    "plt.ylabel(\"Erreurs de prédiction\")\n",
    "plt.show()"
   ]
  },
  {
   "cell_type": "code",
   "execution_count": 24,
   "metadata": {},
   "outputs": [
    {
     "name": "stdout",
     "output_type": "stream",
     "text": [
      "my_pipe_e_net score :  0.8691331881270381\n"
     ]
    }
   ],
   "source": [
    "# Filter the residuals greater than 20000 \n",
    "residual_to_drop = residual_enet[residual_enet['charges'] > 15000].index\n",
    "\n",
    "# Recreate the X_train and y_train\n",
    "X_train_new_enet = X_train.drop(residual_to_drop)\n",
    "y_train_new_enet = y_train.drop(residual_to_drop)\n",
    "\n",
    "\n",
    "# # Retrain the model with new data \n",
    "my_pipe_lr.fit(X_train_new_enet, y_train_new_enet)\n",
    "\n",
    "\n",
    "# # Predict on new data\n",
    "scores_enet_sans_erreur = cross_val_score(my_pipe_lr, X_train_new_enet, y_train_new_enet, cv=5).mean()\n",
    "print (\"my_pipe_e_net score : \" , scores_enet_sans_erreur )\n",
    "#y_pred2 = my_pipe_lr.predict(X_train_new)"
   ]
  },
  {
   "cell_type": "markdown",
   "metadata": {},
   "source": [
    "## Calcul des residuals My pipe lr "
   ]
  },
  {
   "cell_type": "markdown",
   "metadata": {},
   "source": [
    "### \n",
    "Ce code prédit la variable cible d'un jeu de données d'entraînement X_train en utilisant un pipeline d'apprentissage automatique appelé my_pipe_lr. Le code produit une matrice contenant les prédictions pour chaque élément du jeu de données d'entraînement."
   ]
  },
  {
   "cell_type": "code",
   "execution_count": 25,
   "metadata": {},
   "outputs": [
    {
     "data": {
      "text/plain": [
       "array([[ 3380.],\n",
       "       [44666.],\n",
       "       [ 5826.],\n",
       "       ...,\n",
       "       [ 6922.],\n",
       "       [10204.],\n",
       "       [ 3194.]])"
      ]
     },
     "execution_count": 25,
     "metadata": {},
     "output_type": "execute_result"
    }
   ],
   "source": [
    "y_pred = my_pipe_lr.predict(X_train)\n",
    "#y_pred.reshape(1,1070)\n",
    "y_pred"
   ]
  },
  {
   "cell_type": "markdown",
   "metadata": {},
   "source": [
    "### Ce code calcule les résidus entre les valeurs prédites et les valeurs réelles pour le jeu de données d'entraînement. Il trie ensuite les résidus par charges, de la plus grande à la plus petite."
   ]
  },
  {
   "cell_type": "code",
   "execution_count": 26,
   "metadata": {},
   "outputs": [
    {
     "data": {
      "text/html": [
       "<div>\n",
       "<style scoped>\n",
       "    .dataframe tbody tr th:only-of-type {\n",
       "        vertical-align: middle;\n",
       "    }\n",
       "\n",
       "    .dataframe tbody tr th {\n",
       "        vertical-align: top;\n",
       "    }\n",
       "\n",
       "    .dataframe thead th {\n",
       "        text-align: right;\n",
       "    }\n",
       "</style>\n",
       "<table border=\"1\" class=\"dataframe\">\n",
       "  <thead>\n",
       "    <tr style=\"text-align: right;\">\n",
       "      <th></th>\n",
       "      <th>charges</th>\n",
       "    </tr>\n",
       "  </thead>\n",
       "  <tbody>\n",
       "    <tr>\n",
       "      <th>699</th>\n",
       "      <td>120.61230</td>\n",
       "    </tr>\n",
       "    <tr>\n",
       "      <th>1323</th>\n",
       "      <td>769.62370</td>\n",
       "    </tr>\n",
       "    <tr>\n",
       "      <th>468</th>\n",
       "      <td>17462.92840</td>\n",
       "    </tr>\n",
       "    <tr>\n",
       "      <th>170</th>\n",
       "      <td>1804.60970</td>\n",
       "    </tr>\n",
       "    <tr>\n",
       "      <th>376</th>\n",
       "      <td>3354.06990</td>\n",
       "    </tr>\n",
       "    <tr>\n",
       "      <th>...</th>\n",
       "      <td>...</td>\n",
       "    </tr>\n",
       "    <tr>\n",
       "      <th>627</th>\n",
       "      <td>6628.71487</td>\n",
       "    </tr>\n",
       "    <tr>\n",
       "      <th>76</th>\n",
       "      <td>1188.58690</td>\n",
       "    </tr>\n",
       "    <tr>\n",
       "      <th>319</th>\n",
       "      <td>2254.39235</td>\n",
       "    </tr>\n",
       "    <tr>\n",
       "      <th>197</th>\n",
       "      <td>1687.17100</td>\n",
       "    </tr>\n",
       "    <tr>\n",
       "      <th>1147</th>\n",
       "      <td>932.43120</td>\n",
       "    </tr>\n",
       "  </tbody>\n",
       "</table>\n",
       "<p>1137 rows × 1 columns</p>\n",
       "</div>"
      ],
      "text/plain": [
       "          charges\n",
       "699     120.61230\n",
       "1323    769.62370\n",
       "468   17462.92840\n",
       "170    1804.60970\n",
       "376    3354.06990\n",
       "...           ...\n",
       "627    6628.71487\n",
       "76     1188.58690\n",
       "319    2254.39235\n",
       "197    1687.17100\n",
       "1147    932.43120\n",
       "\n",
       "[1137 rows x 1 columns]"
      ]
     },
     "execution_count": 26,
     "metadata": {},
     "output_type": "execute_result"
    }
   ],
   "source": [
    "residual = (y_pred-y_train).abs()\n",
    "residual"
   ]
  },
  {
   "cell_type": "code",
   "execution_count": 27,
   "metadata": {},
   "outputs": [
    {
     "data": {
      "image/png": "[encoded data removed]",
      "text/plain": [
       "<Figure size 640x480 with 1 Axes>"
      ]
     },
     "metadata": {},
     "output_type": "display_data"
    }
   ],
   "source": [
    "#plot residuals\n",
    "\n",
    "plt.scatter(y_train.index, residual, color=\"blue\")\n",
    "plt.title(\"Erreurs de prédictions (residuals)\")\n",
    "plt.xlabel(\"Charges réelles\")\n",
    "plt.ylabel(\"Erreurs de prédiction\")\n",
    "plt.show()"
   ]
  },
  {
   "cell_type": "code",
   "execution_count": 28,
   "metadata": {},
   "outputs": [
    {
     "name": "stdout",
     "output_type": "stream",
     "text": [
      "my_pipe_lr score :  0.9122861757431115\n"
     ]
    }
   ],
   "source": [
    "# Filter the residuals greater than 20000 \n",
    "residual_to_drop = residual[residual['charges'] > 15000].index\n",
    "\n",
    "# Recreate the X_train and y_train\n",
    "X_train_new=X_train.drop(residual_to_drop)\n",
    "y_train_new=y_train.drop(residual_to_drop)\n",
    "\n",
    "\n",
    "# # Retrain the model with new data \n",
    "my_pipe_lr.fit(X_train_new, y_train_new)\n",
    "\n",
    "\n",
    "# # Predict on new data\n",
    "scores_lr_sans_erreur = cross_val_score(my_pipe_lr, X_train_new, y_train_new, cv=5).mean()\n",
    "print (\"my_pipe_lr score : \" , scores_lr_sans_erreur )\n",
    "#y_pred2 = my_pipe_lr.predict(X_train_new)"
   ]
  },
  {
   "cell_type": "markdown",
   "metadata": {},
   "source": [
    "DISTANCE DE COOK "
   ]
  },
  {
   "cell_type": "code",
   "execution_count": 29,
   "metadata": {},
   "outputs": [],
   "source": [
    "import statsmodels.api as sm"
   ]
  },
  {
   "cell_type": "code",
   "execution_count": 30,
   "metadata": {},
   "outputs": [
    {
     "data": {
      "text/plain": [
       "array([[-0.56565657, -0.45247206,  1.        , ...,  0.        ,\n",
       "         0.        ,  1.        ],\n",
       "       [ 0.08080808,  0.3257309 ,  1.        , ...,  0.        ,\n",
       "         1.        ,  0.        ],\n",
       "       [-0.84848485,  0.77820297, -0.5       , ...,  0.        ,\n",
       "         1.        ,  0.        ],\n",
       "       ...,\n",
       "       [-0.28282828,  0.83759375,  0.        , ...,  0.        ,\n",
       "         0.        ,  1.        ],\n",
       "       [ 0.24242424, -0.23205266,  0.5       , ...,  0.        ,\n",
       "         1.        ,  0.        ],\n",
       "       [-0.76767677,  0.1744987 , -0.5       , ...,  0.        ,\n",
       "         1.        ,  0.        ]])"
      ]
     },
     "execution_count": 30,
     "metadata": {},
     "output_type": "execute_result"
    }
   ],
   "source": [
    "X_train, X_test, y_train, y_test = train_test_split(X, y, shuffle=True, train_size=0.8, random_state=42, stratify=X[['smoker']])\n",
    "cols_to_norm = ['age', 'bmi','children']\n",
    "col_cat = ['region','smoker','sex']\n",
    "scale_one_hot = ColumnTransformer(\n",
    "    [('scaler',  RobustScaler(), cols_to_norm),('one_hot_encoder', OneHotEncoder(), col_cat)]\n",
    "    \n",
    ")\n",
    "\n",
    "preprocessor = Pipeline([\n",
    "    ('normalizer', scale_one_hot)\n",
    "    # autres étapes de votre pipeline ici\n",
    "])\n",
    "# Transformation des données\n",
    "\n",
    "preprocessor.fit_transform(X_train, y_train)"
   ]
  },
  {
   "cell_type": "code",
   "execution_count": 31,
   "metadata": {},
   "outputs": [],
   "source": [
    "def get_index_to_remove_by_Cooks_Distance(X_train, y_train, preprocessor):\n",
    "    \"\"\"\n",
    "    This function removes observations from the training data that have high Cook's distance values.\n",
    "    Cook's distance is a measure of the influence of an observation on a statistical model.\n",
    "    Observations with high Cook's distance values may have a disproportionate influence on the model,\n",
    "    and removing them can improve the model's accuracy.\n",
    "    \n",
    "    Parameters:\n",
    "    - X_train: pd.DataFrame\n",
    "        The training data\n",
    "    - y_train: pd.Series\n",
    "        The target labels for the training data\n",
    "    - preprocessor: sklearn.compose.ColumnTransformer\n",
    "        The preprocessor created by make_pipeline_to_ML()\n",
    "        \n",
    "    Returns:\n",
    "    - index_to_be_removed: pd.Index\n",
    "        The indices of the observations to be removed from the training data\n",
    "    \"\"\"\n",
    "    \n",
    "    # Fit the transformer to the training data\n",
    "    preprocessor.fit(X_train)\n",
    "    \n",
    "    # Transform the training data using the preprocessor\n",
    "    X_test_pipe = preprocessor.transform(X_train)\n",
    "    \n",
    "    # Get the names of the columns added by the OneHotEncoder\n",
    "    new_columns = preprocessor.get_feature_names_out()\n",
    "    new_columns = [w.replace('pipeline-1__', '') for w in new_columns]\n",
    "    new_columns = [w.replace('pipeline-2__', '') for w in new_columns]\n",
    "    \n",
    "    # Convert the transformed data to a Pandas DataFrame\n",
    "    newdf = pd.DataFrame(X_test_pipe)\n",
    "    \n",
    "    # Set the column names to the names obtained from the OneHotEncoder\n",
    "    newdf.columns = new_columns\n",
    "    \n",
    "    # Add a constant term to the DataFrame\n",
    "    X = sm.add_constant(newdf)\n",
    "    \n",
    "    # Set the index of the DataFrame to the index of the target labels\n",
    "    X = X.set_index(y_train.index)\n",
    "    \n",
    "    # Fit an OLS model to the data\n",
    "    estimation = sm.OLS(y_train, X_test_pipe).fit()\n",
    "    \n",
    "    # Calculate the Cook's distance values for each observation\n",
    "    influence = estimation.get_influence().cooks_distance[0]\n",
    "    \n",
    "    # Add the Cook's distance values to the DataFrame as a new column\n",
    "    X['dcooks'] = influence\n",
    "    \n",
    "    # Calculate the threshold for Cook's distance values\n",
    "    n = X.shape[0]\n",
    "    p = X.shape[1]\n",
    "    seuil_dcook = 4/(n-p)\n",
    "    \n",
    "    # Select the indices of the observations with Cook's distance values above the threshold\n",
    "    index_to_be_removed = X[X['dcooks']>seuil_dcook].index\n",
    "    \n",
    "    plt.figure(figsize=(10,6))\n",
    "    plt.bar(X.index, X['dcooks'])\n",
    "    plt.xticks(np.arange(0, len(X), step=int(len(X)/10)))\n",
    "    plt.xlabel('Observation')\n",
    "    plt.ylabel('Cooks Distance')\n",
    "    #Plot the line\n",
    "    plt.hlines(seuil_dcook, xmin=0, xmax=len(X_train), color='r')\n",
    "    plt.show()\n",
    "\n",
    "\n",
    "    # Return the indices of the observations to be removed\n",
    "    return index_to_be_removed"
   ]
  },
  {
   "cell_type": "code",
   "execution_count": 32,
   "metadata": {},
   "outputs": [
    {
     "data": {
      "image/png": "[encoded data removed]",
      "text/plain": [
       "<Figure size 1000x600 with 1 Axes>"
      ]
     },
     "metadata": {},
     "output_type": "display_data"
    }
   ],
   "source": [
    "# Get the indices of the observations to be removed from the training data\n",
    "index_to_be_removed = get_index_to_remove_by_Cooks_Distance(X_train=X_train, y_train=y_train, preprocessor=preprocessor)\n",
    "\n",
    "# Remove the observations from the training data\n",
    "X_train = X_train.drop(index=index_to_be_removed.values)\n",
    "y_train = y_train.drop(index=index_to_be_removed.values)"
   ]
  },
  {
   "cell_type": "code",
   "execution_count": 33,
   "metadata": {},
   "outputs": [],
   "source": [
    "my_pipe_lr.fit(X_train, y_train)\n",
    "pipe_lr = cross_validate(my_pipe_lr, X_train, y_train, cv=5, scoring= ['r2', 'neg_root_mean_squared_error'])"
   ]
  },
  {
   "cell_type": "code",
   "execution_count": 34,
   "metadata": {},
   "outputs": [
    {
     "data": {
      "text/plain": [
       "0.9055086913790028"
      ]
     },
     "execution_count": 34,
     "metadata": {},
     "output_type": "execute_result"
    }
   ],
   "source": [
    "score_lr = pipe_lr['test_r2'].mean()\n",
    "rmse_lr = np.abs(pipe_lr['test_neg_root_mean_squared_error'].mean())\n",
    "score_lr"
   ]
  },
  {
   "cell_type": "markdown",
   "metadata": {},
   "source": [
    "SELECTION DU MODELE FINAL"
   ]
  },
  {
   "cell_type": "code",
   "execution_count": 35,
   "metadata": {},
   "outputs": [
    {
     "name": "stdout",
     "output_type": "stream",
     "text": [
      "score_lasso 0.8317130854915332\n",
      "score_ridge 0.8317464379297779\n",
      "elastic_score 0.832845492384848\n",
      "scores_enet_sans_erreur 0.8691331881270381\n",
      "score_lr 0.9055086913790028\n",
      "scores_lr_sans_erreur 0.9122861757431115\n"
     ]
    }
   ],
   "source": [
    "# créer un dictionnaire avec les scores de chaque modèle\n",
    "modeles = {\"score_lr\": score_lr, \"score_lasso\": score_lasso, \"score_ridge\": score_ridge, \"elastic_score\": elastic_score,\"scores_lr_sans_erreur\": scores_lr_sans_erreur, \"scores_enet_sans_erreur\": scores_enet_sans_erreur}\n",
    "\n",
    "# trier le dictionnaire en utilisant la méthode sorted\n",
    "sorted_dict = sorted(modeles.items(), key=lambda x: x[1])\n",
    "\n",
    "\n",
    "# imprimer le dictionnaire trié\n",
    "for modèle, score in sorted_dict:\n",
    "    print(modèle, score)"
   ]
  },
  {
   "cell_type": "code",
   "execution_count": 36,
   "metadata": {},
   "outputs": [
    {
     "name": "stdout",
     "output_type": "stream",
     "text": [
      "my_pipe_lr score :  0.8569915568364621\n"
     ]
    }
   ],
   "source": [
    "print (\"my_pipe_lr score : \" , my_pipe_lr.score(X_test, y_test))"
   ]
  },
  {
   "cell_type": "markdown",
   "metadata": {},
   "source": [
    "## Enregistrer le modèle "
   ]
  },
  {
   "cell_type": "code",
   "execution_count": 37,
   "metadata": {},
   "outputs": [],
   "source": [
    "import pickle "
   ]
  },
  {
   "cell_type": "code",
   "execution_count": 38,
   "metadata": {},
   "outputs": [],
   "source": [
    "pickle_out = open(\"my_pipe_lr.pkl\", \"wb\") \n",
    "pickle.dump(my_pipe_lr, pickle_out) \n",
    "pickle_out.close()"
   ]
  }
 ],
 "metadata": {
  "kernelspec": {
   "display_name": "Python 3.10.8 ('data_analyse_env')",
   "language": "python",
   "name": "python3"
  },
  "language_info": {
   "codemirror_mode": {
    "name": "ipython",
    "version": 3
   },
   "file_extension": ".py",
   "mimetype": "text/x-python",
   "name": "python",
   "nbconvert_exporter": "python",
   "pygments_lexer": "ipython3",
   "version": "3.10.8"
  },
  "orig_nbformat": 4,
  "vscode": {
   "interpreter": {
    "hash": "862f65da1f1a1c9ffeaa84a377fc90b92a29c7d7c457330afb30e22c0920c9dd"
   }
  }
 },
 "nbformat": 4,
 "nbformat_minor": 2
}
